{
  "nbformat": 4,
  "nbformat_minor": 0,
  "metadata": {
    "colab": {
      "provenance": []
    },
    "kernelspec": {
      "name": "python3",
      "display_name": "Python 3"
    },
    "language_info": {
      "name": "python"
    }
  },
  "cells": [
    {
      "cell_type": "code",
      "execution_count": 1,
      "metadata": {
        "id": "UoRiTcqvml7V"
      },
      "outputs": [],
      "source": [
        "import pandas as pd\n",
        "import numpy as np\n",
        "import matplotlib.pyplot as plt\n",
        "import seaborn as sns\n",
        "\n",
        "from sklearn.metrics import r2_score, mean_squared_error\n",
        "from sklearn.model_selection import train_test_split\n",
        "from sklearn.preprocessing import StandardScaler\n",
        "from sklearn.model_selection import GridSearchCV\n",
        "from xgboost import XGBRegressor\n",
        "from sklearn.ensemble import AdaBoostRegressor, RandomForestRegressor\n",
        "\n",
        "import warnings\n",
        "warnings.filterwarnings(\"ignore\")"
      ]
    },
    {
      "cell_type": "markdown",
      "source": [
        "\n",
        "\n",
        "\n",
        "4. Build a predictive model to predict the MPG based on other data. What is your optimal error metric on the test set?"
      ],
      "metadata": {
        "id": "FTWrXmwqnPwb"
      }
    },
    {
      "cell_type": "code",
      "source": [
        "# Reading the data\n",
        "cars = pd.read_csv('cars.csv', sep=';')"
      ],
      "metadata": {
        "id": "B4_7Zfm4mwKV"
      },
      "execution_count": 2,
      "outputs": []
    },
    {
      "cell_type": "code",
      "source": [
        "print(\"Sample of the data\")\n",
        "print(cars.head())"
      ],
      "metadata": {
        "colab": {
          "base_uri": "https://localhost:8080/"
        },
        "id": "fskAnKYBnyr8",
        "outputId": "5984acc5-8359-4b66-b193-c1720a1ef1ee"
      },
      "execution_count": 3,
      "outputs": [
        {
          "output_type": "stream",
          "name": "stdout",
          "text": [
            "Sample of the data\n",
            "                         Car     MPG Cylinders Displacement Horsepower  \\\n",
            "0                     STRING  DOUBLE       INT       DOUBLE     DOUBLE   \n",
            "1  Chevrolet Chevelle Malibu    18.0         8        307.0      130.0   \n",
            "2          Buick Skylark 320    15.0         8        350.0      165.0   \n",
            "3         Plymouth Satellite    18.0         8        318.0      150.0   \n",
            "4              AMC Rebel SST    16.0         8        304.0      150.0   \n",
            "\n",
            "   Weight Acceleration Model Origin  \n",
            "0  DOUBLE       DOUBLE   INT    CAT  \n",
            "1   3504.         12.0    70     US  \n",
            "2   3693.         11.5    70     US  \n",
            "3   3436.         11.0    70     US  \n",
            "4   3433.         12.0    70     US  \n"
          ]
        }
      ]
    },
    {
      "cell_type": "code",
      "source": [
        "# Dropping the first row with data_type information\n",
        "print(f\"First row with data_type {cars.iloc[0]}\")\n",
        "cars.drop(0, axis = 0, inplace = True)"
      ],
      "metadata": {
        "colab": {
          "base_uri": "https://localhost:8080/"
        },
        "id": "JKzreSknnzlQ",
        "outputId": "064cb468-d0de-40a2-f60f-6b0e92d33378"
      },
      "execution_count": 4,
      "outputs": [
        {
          "output_type": "stream",
          "name": "stdout",
          "text": [
            "First row with data_type Car             STRING\n",
            "MPG             DOUBLE\n",
            "Cylinders          INT\n",
            "Displacement    DOUBLE\n",
            "Horsepower      DOUBLE\n",
            "Weight          DOUBLE\n",
            "Acceleration    DOUBLE\n",
            "Model              INT\n",
            "Origin             CAT\n",
            "Name: 0, dtype: object\n"
          ]
        }
      ]
    },
    {
      "cell_type": "code",
      "source": [
        "# Converting the data columns to their actual data_type\n",
        "cars['Car'] = cars['Car'].astype(str)\n",
        "cars['MPG'] = cars['MPG'].astype(float)\n",
        "cars['Cylinders'] = cars['Cylinders'].astype(int)\n",
        "cars['Displacement'] = cars['Displacement'].astype(float)\n",
        "cars['Horsepower'] = cars['Horsepower'].astype(float)\n",
        "cars['Weight'] = cars['Weight'].astype(float)\n",
        "cars['Acceleration'] = cars['Acceleration'].astype(float)\n",
        "cars['Model'] = cars['Model'].astype(int)\n",
        "cars['Origin'] = cars['Origin'].astype(\"category\")"
      ],
      "metadata": {
        "id": "CVOcMnNPouqO"
      },
      "execution_count": 5,
      "outputs": []
    },
    {
      "cell_type": "code",
      "source": [
        "# Removing the rows where the data is incomplete\n",
        "cars.drop(cars[cars.MPG == 0.0].index, axis=0, inplace=True)\n",
        "cars.drop(cars[cars.Horsepower == 0.0].index, axis=0, inplace=True)\n",
        "print(cars.describe())"
      ],
      "metadata": {
        "colab": {
          "base_uri": "https://localhost:8080/"
        },
        "id": "LG0mgEqnxT5R",
        "outputId": "f3267389-f8ea-4a35-a4c2-3405e9e43c2b"
      },
      "execution_count": 6,
      "outputs": [
        {
          "output_type": "stream",
          "name": "stdout",
          "text": [
            "              MPG   Cylinders  Displacement  Horsepower       Weight  \\\n",
            "count  392.000000  392.000000    392.000000  392.000000   392.000000   \n",
            "mean    23.445918    5.471939    194.411990  104.469388  2977.584184   \n",
            "std      7.805007    1.705783    104.644004   38.491160   849.402560   \n",
            "min      9.000000    3.000000     68.000000   46.000000  1613.000000   \n",
            "25%     17.000000    4.000000    105.000000   75.000000  2225.250000   \n",
            "50%     22.750000    4.000000    151.000000   93.500000  2803.500000   \n",
            "75%     29.000000    8.000000    275.750000  126.000000  3614.750000   \n",
            "max     46.600000    8.000000    455.000000  230.000000  5140.000000   \n",
            "\n",
            "       Acceleration       Model  \n",
            "count    392.000000  392.000000  \n",
            "mean      15.541327   75.979592  \n",
            "std        2.758864    3.683737  \n",
            "min        8.000000   70.000000  \n",
            "25%       13.775000   73.000000  \n",
            "50%       15.500000   76.000000  \n",
            "75%       17.025000   79.000000  \n",
            "max       24.800000   82.000000  \n"
          ]
        }
      ]
    },
    {
      "cell_type": "markdown",
      "source": [
        "## 1. Find the car with the highest MPG"
      ],
      "metadata": {
        "id": "70nc5BiVpiab"
      }
    },
    {
      "cell_type": "code",
      "source": [
        "print(f\"Car with highest MPG: {cars[cars.MPG == cars.MPG.max()]}\")"
      ],
      "metadata": {
        "colab": {
          "base_uri": "https://localhost:8080/"
        },
        "id": "kqdKSFlvpfOD",
        "outputId": "5f5ad17c-3d92-4874-82db-6e4dfee95fbf"
      },
      "execution_count": 7,
      "outputs": [
        {
          "output_type": "stream",
          "name": "stdout",
          "text": [
            "Car with highest MPG:            Car   MPG  Cylinders  Displacement  Horsepower  Weight  \\\n",
            "330  Mazda GLC  46.6          4          86.0        65.0  2110.0   \n",
            "\n",
            "     Acceleration  Model Origin  \n",
            "330          17.9     80  Japan  \n"
          ]
        }
      ]
    },
    {
      "cell_type": "markdown",
      "source": [
        "## 2. Find the average MPG per Cylinder count"
      ],
      "metadata": {
        "id": "J4GkuqblpvgI"
      }
    },
    {
      "cell_type": "code",
      "source": [
        "print(f\"Average MPG per Cylinder count: {cars.groupby('Cylinders').MPG.mean()}\")"
      ],
      "metadata": {
        "colab": {
          "base_uri": "https://localhost:8080/"
        },
        "id": "vq5T25Dypq9k",
        "outputId": "5ebfe955-fbad-46b8-a0b7-2c2d655d9e81"
      },
      "execution_count": 8,
      "outputs": [
        {
          "output_type": "stream",
          "name": "stdout",
          "text": [
            "Average MPG per Cylinder count: Cylinders\n",
            "3    20.550000\n",
            "4    29.283920\n",
            "5    27.366667\n",
            "6    19.973494\n",
            "8    14.963107\n",
            "Name: MPG, dtype: float64\n"
          ]
        }
      ]
    },
    {
      "cell_type": "markdown",
      "source": [
        "### 3. Find each make's average MPG (Cherry, Ford, etc)"
      ],
      "metadata": {
        "id": "6izY9BkvqtqV"
      }
    },
    {
      "cell_type": "code",
      "source": [
        "# Extracting Make of the Car from the Car name\n",
        "cars['Make'] = cars.Car.str.split(' ').str[0]"
      ],
      "metadata": {
        "id": "g_deb3R3qpy4"
      },
      "execution_count": 9,
      "outputs": []
    },
    {
      "cell_type": "code",
      "source": [
        "# Replacing misspelled Make\n",
        "misspelled = {'Chevrolete': 'Chevrolet',\n",
        "              'Hi': 'Harvester',\n",
        "              'Mercedes-Benz': 'Mercedes',\n",
        "              }\n",
        "cars['Make'] = cars['Make'].replace(misspelled)"
      ],
      "metadata": {
        "id": "oqqcZGKMsfOW"
      },
      "execution_count": 10,
      "outputs": []
    },
    {
      "cell_type": "code",
      "source": [
        "print(f\"Average MPG by Make: {cars.groupby('Make').MPG.mean()}\")"
      ],
      "metadata": {
        "colab": {
          "base_uri": "https://localhost:8080/"
        },
        "id": "vo2pOrW2ttz-",
        "outputId": "f218b5b9-60d0-4f83-fa6f-d1096ac45282"
      },
      "execution_count": 11,
      "outputs": [
        {
          "output_type": "stream",
          "name": "stdout",
          "text": [
            "Average MPG by Make: Make\n",
            "AMC           18.070370\n",
            "Audi          26.714286\n",
            "BMW           23.750000\n",
            "Buick         19.182353\n",
            "Cadillac      19.750000\n",
            "Capri         25.000000\n",
            "Chevrolet     20.206667\n",
            "Chevy         20.500000\n",
            "Chrysler      17.266667\n",
            "Datsun        31.113043\n",
            "Dodge         22.060714\n",
            "Fiat          28.912500\n",
            "Ford          19.475000\n",
            "Harvester      9.000000\n",
            "Honda         33.761538\n",
            "Mazda         30.058333\n",
            "Mercedes      23.966667\n",
            "Mercury       19.118182\n",
            "Nissan        36.000000\n",
            "Oldsmobile    21.100000\n",
            "Opel          25.750000\n",
            "Peugeot       23.687500\n",
            "Plymouth      21.703226\n",
            "Pontiac       20.012500\n",
            "Renault       29.666667\n",
            "Saab          23.900000\n",
            "Subaru        30.525000\n",
            "Toyota        28.165385\n",
            "Triumph       35.000000\n",
            "Volkswagen    31.840909\n",
            "Volvo         21.116667\n",
            "Name: MPG, dtype: float64\n"
          ]
        }
      ]
    },
    {
      "cell_type": "markdown",
      "source": [
        "### 4. Build a predictive model to predict the MPG based on other data. What is your optimal error metric on the test set?"
      ],
      "metadata": {
        "id": "H8nbAMwburVG"
      }
    },
    {
      "cell_type": "code",
      "source": [
        "cars.head()"
      ],
      "metadata": {
        "colab": {
          "base_uri": "https://localhost:8080/",
          "height": 206
        },
        "id": "b5f0JvsjuNLC",
        "outputId": "5bd6e0ef-2f81-4bfe-b8ba-92bc54ed6738"
      },
      "execution_count": 12,
      "outputs": [
        {
          "output_type": "execute_result",
          "data": {
            "text/plain": [
              "                         Car   MPG  Cylinders  Displacement  Horsepower  \\\n",
              "1  Chevrolet Chevelle Malibu  18.0          8         307.0       130.0   \n",
              "2          Buick Skylark 320  15.0          8         350.0       165.0   \n",
              "3         Plymouth Satellite  18.0          8         318.0       150.0   \n",
              "4              AMC Rebel SST  16.0          8         304.0       150.0   \n",
              "5                Ford Torino  17.0          8         302.0       140.0   \n",
              "\n",
              "   Weight  Acceleration  Model Origin       Make  \n",
              "1  3504.0          12.0     70     US  Chevrolet  \n",
              "2  3693.0          11.5     70     US      Buick  \n",
              "3  3436.0          11.0     70     US   Plymouth  \n",
              "4  3433.0          12.0     70     US        AMC  \n",
              "5  3449.0          10.5     70     US       Ford  "
            ],
            "text/html": [
              "\n",
              "  <div id=\"df-75bf25d9-fe5b-40a5-b079-5b4b1fc2326c\">\n",
              "    <div class=\"colab-df-container\">\n",
              "      <div>\n",
              "<style scoped>\n",
              "    .dataframe tbody tr th:only-of-type {\n",
              "        vertical-align: middle;\n",
              "    }\n",
              "\n",
              "    .dataframe tbody tr th {\n",
              "        vertical-align: top;\n",
              "    }\n",
              "\n",
              "    .dataframe thead th {\n",
              "        text-align: right;\n",
              "    }\n",
              "</style>\n",
              "<table border=\"1\" class=\"dataframe\">\n",
              "  <thead>\n",
              "    <tr style=\"text-align: right;\">\n",
              "      <th></th>\n",
              "      <th>Car</th>\n",
              "      <th>MPG</th>\n",
              "      <th>Cylinders</th>\n",
              "      <th>Displacement</th>\n",
              "      <th>Horsepower</th>\n",
              "      <th>Weight</th>\n",
              "      <th>Acceleration</th>\n",
              "      <th>Model</th>\n",
              "      <th>Origin</th>\n",
              "      <th>Make</th>\n",
              "    </tr>\n",
              "  </thead>\n",
              "  <tbody>\n",
              "    <tr>\n",
              "      <th>1</th>\n",
              "      <td>Chevrolet Chevelle Malibu</td>\n",
              "      <td>18.0</td>\n",
              "      <td>8</td>\n",
              "      <td>307.0</td>\n",
              "      <td>130.0</td>\n",
              "      <td>3504.0</td>\n",
              "      <td>12.0</td>\n",
              "      <td>70</td>\n",
              "      <td>US</td>\n",
              "      <td>Chevrolet</td>\n",
              "    </tr>\n",
              "    <tr>\n",
              "      <th>2</th>\n",
              "      <td>Buick Skylark 320</td>\n",
              "      <td>15.0</td>\n",
              "      <td>8</td>\n",
              "      <td>350.0</td>\n",
              "      <td>165.0</td>\n",
              "      <td>3693.0</td>\n",
              "      <td>11.5</td>\n",
              "      <td>70</td>\n",
              "      <td>US</td>\n",
              "      <td>Buick</td>\n",
              "    </tr>\n",
              "    <tr>\n",
              "      <th>3</th>\n",
              "      <td>Plymouth Satellite</td>\n",
              "      <td>18.0</td>\n",
              "      <td>8</td>\n",
              "      <td>318.0</td>\n",
              "      <td>150.0</td>\n",
              "      <td>3436.0</td>\n",
              "      <td>11.0</td>\n",
              "      <td>70</td>\n",
              "      <td>US</td>\n",
              "      <td>Plymouth</td>\n",
              "    </tr>\n",
              "    <tr>\n",
              "      <th>4</th>\n",
              "      <td>AMC Rebel SST</td>\n",
              "      <td>16.0</td>\n",
              "      <td>8</td>\n",
              "      <td>304.0</td>\n",
              "      <td>150.0</td>\n",
              "      <td>3433.0</td>\n",
              "      <td>12.0</td>\n",
              "      <td>70</td>\n",
              "      <td>US</td>\n",
              "      <td>AMC</td>\n",
              "    </tr>\n",
              "    <tr>\n",
              "      <th>5</th>\n",
              "      <td>Ford Torino</td>\n",
              "      <td>17.0</td>\n",
              "      <td>8</td>\n",
              "      <td>302.0</td>\n",
              "      <td>140.0</td>\n",
              "      <td>3449.0</td>\n",
              "      <td>10.5</td>\n",
              "      <td>70</td>\n",
              "      <td>US</td>\n",
              "      <td>Ford</td>\n",
              "    </tr>\n",
              "  </tbody>\n",
              "</table>\n",
              "</div>\n",
              "      <button class=\"colab-df-convert\" onclick=\"convertToInteractive('df-75bf25d9-fe5b-40a5-b079-5b4b1fc2326c')\"\n",
              "              title=\"Convert this dataframe to an interactive table.\"\n",
              "              style=\"display:none;\">\n",
              "        \n",
              "  <svg xmlns=\"http://www.w3.org/2000/svg\" height=\"24px\"viewBox=\"0 0 24 24\"\n",
              "       width=\"24px\">\n",
              "    <path d=\"M0 0h24v24H0V0z\" fill=\"none\"/>\n",
              "    <path d=\"M18.56 5.44l.94 2.06.94-2.06 2.06-.94-2.06-.94-.94-2.06-.94 2.06-2.06.94zm-11 1L8.5 8.5l.94-2.06 2.06-.94-2.06-.94L8.5 2.5l-.94 2.06-2.06.94zm10 10l.94 2.06.94-2.06 2.06-.94-2.06-.94-.94-2.06-.94 2.06-2.06.94z\"/><path d=\"M17.41 7.96l-1.37-1.37c-.4-.4-.92-.59-1.43-.59-.52 0-1.04.2-1.43.59L10.3 9.45l-7.72 7.72c-.78.78-.78 2.05 0 2.83L4 21.41c.39.39.9.59 1.41.59.51 0 1.02-.2 1.41-.59l7.78-7.78 2.81-2.81c.8-.78.8-2.07 0-2.86zM5.41 20L4 18.59l7.72-7.72 1.47 1.35L5.41 20z\"/>\n",
              "  </svg>\n",
              "      </button>\n",
              "      \n",
              "  <style>\n",
              "    .colab-df-container {\n",
              "      display:flex;\n",
              "      flex-wrap:wrap;\n",
              "      gap: 12px;\n",
              "    }\n",
              "\n",
              "    .colab-df-convert {\n",
              "      background-color: #E8F0FE;\n",
              "      border: none;\n",
              "      border-radius: 50%;\n",
              "      cursor: pointer;\n",
              "      display: none;\n",
              "      fill: #1967D2;\n",
              "      height: 32px;\n",
              "      padding: 0 0 0 0;\n",
              "      width: 32px;\n",
              "    }\n",
              "\n",
              "    .colab-df-convert:hover {\n",
              "      background-color: #E2EBFA;\n",
              "      box-shadow: 0px 1px 2px rgba(60, 64, 67, 0.3), 0px 1px 3px 1px rgba(60, 64, 67, 0.15);\n",
              "      fill: #174EA6;\n",
              "    }\n",
              "\n",
              "    [theme=dark] .colab-df-convert {\n",
              "      background-color: #3B4455;\n",
              "      fill: #D2E3FC;\n",
              "    }\n",
              "\n",
              "    [theme=dark] .colab-df-convert:hover {\n",
              "      background-color: #434B5C;\n",
              "      box-shadow: 0px 1px 3px 1px rgba(0, 0, 0, 0.15);\n",
              "      filter: drop-shadow(0px 1px 2px rgba(0, 0, 0, 0.3));\n",
              "      fill: #FFFFFF;\n",
              "    }\n",
              "  </style>\n",
              "\n",
              "      <script>\n",
              "        const buttonEl =\n",
              "          document.querySelector('#df-75bf25d9-fe5b-40a5-b079-5b4b1fc2326c button.colab-df-convert');\n",
              "        buttonEl.style.display =\n",
              "          google.colab.kernel.accessAllowed ? 'block' : 'none';\n",
              "\n",
              "        async function convertToInteractive(key) {\n",
              "          const element = document.querySelector('#df-75bf25d9-fe5b-40a5-b079-5b4b1fc2326c');\n",
              "          const dataTable =\n",
              "            await google.colab.kernel.invokeFunction('convertToInteractive',\n",
              "                                                     [key], {});\n",
              "          if (!dataTable) return;\n",
              "\n",
              "          const docLinkHtml = 'Like what you see? Visit the ' +\n",
              "            '<a target=\"_blank\" href=https://colab.research.google.com/notebooks/data_table.ipynb>data table notebook</a>'\n",
              "            + ' to learn more about interactive tables.';\n",
              "          element.innerHTML = '';\n",
              "          dataTable['output_type'] = 'display_data';\n",
              "          await google.colab.output.renderOutput(dataTable, element);\n",
              "          const docLink = document.createElement('div');\n",
              "          docLink.innerHTML = docLinkHtml;\n",
              "          element.appendChild(docLink);\n",
              "        }\n",
              "      </script>\n",
              "    </div>\n",
              "  </div>\n",
              "  "
            ]
          },
          "metadata": {},
          "execution_count": 12
        }
      ]
    },
    {
      "cell_type": "code",
      "source": [
        "plt.figure(figsize=(10,10))\n",
        "sns.heatmap(cars.corr(), annot=True)"
      ],
      "metadata": {
        "colab": {
          "base_uri": "https://localhost:8080/",
          "height": 671
        },
        "id": "yt_XOqdYvfpp",
        "outputId": "938dd0eb-d592-4de1-d045-daa6b3e4e8d4"
      },
      "execution_count": 13,
      "outputs": [
        {
          "output_type": "execute_result",
          "data": {
            "text/plain": [
              "<matplotlib.axes._subplots.AxesSubplot at 0x7f69aaf7b5b0>"
            ]
          },
          "metadata": {},
          "execution_count": 13
        },
        {
          "output_type": "display_data",
          "data": {
            "text/plain": [
              "<Figure size 720x720 with 2 Axes>"
            ],
            "image/png": "[encoded data removed]"
          },
          "metadata": {
            "needs_background": "light"
          }
        }
      ]
    },
    {
      "cell_type": "code",
      "source": [
        "cars.head()"
      ],
      "metadata": {
        "colab": {
          "base_uri": "https://localhost:8080/",
          "height": 206
        },
        "id": "YKWS93Yiv0km",
        "outputId": "dd9a5203-dd5c-41ea-b67f-b9d7a928fdc2"
      },
      "execution_count": 14,
      "outputs": [
        {
          "output_type": "execute_result",
          "data": {
            "text/plain": [
              "                         Car   MPG  Cylinders  Displacement  Horsepower  \\\n",
              "1  Chevrolet Chevelle Malibu  18.0          8         307.0       130.0   \n",
              "2          Buick Skylark 320  15.0          8         350.0       165.0   \n",
              "3         Plymouth Satellite  18.0          8         318.0       150.0   \n",
              "4              AMC Rebel SST  16.0          8         304.0       150.0   \n",
              "5                Ford Torino  17.0          8         302.0       140.0   \n",
              "\n",
              "   Weight  Acceleration  Model Origin       Make  \n",
              "1  3504.0          12.0     70     US  Chevrolet  \n",
              "2  3693.0          11.5     70     US      Buick  \n",
              "3  3436.0          11.0     70     US   Plymouth  \n",
              "4  3433.0          12.0     70     US        AMC  \n",
              "5  3449.0          10.5     70     US       Ford  "
            ],
            "text/html": [
              "\n",
              "  <div id=\"df-a24b7ea5-4c86-4969-8cd4-a14aabc51f6e\">\n",
              "    <div class=\"colab-df-container\">\n",
              "      <div>\n",
              "<style scoped>\n",
              "    .dataframe tbody tr th:only-of-type {\n",
              "        vertical-align: middle;\n",
              "    }\n",
              "\n",
              "    .dataframe tbody tr th {\n",
              "        vertical-align: top;\n",
              "    }\n",
              "\n",
              "    .dataframe thead th {\n",
              "        text-align: right;\n",
              "    }\n",
              "</style>\n",
              "<table border=\"1\" class=\"dataframe\">\n",
              "  <thead>\n",
              "    <tr style=\"text-align: right;\">\n",
              "      <th></th>\n",
              "      <th>Car</th>\n",
              "      <th>MPG</th>\n",
              "      <th>Cylinders</th>\n",
              "      <th>Displacement</th>\n",
              "      <th>Horsepower</th>\n",
              "      <th>Weight</th>\n",
              "      <th>Acceleration</th>\n",
              "      <th>Model</th>\n",
              "      <th>Origin</th>\n",
              "      <th>Make</th>\n",
              "    </tr>\n",
              "  </thead>\n",
              "  <tbody>\n",
              "    <tr>\n",
              "      <th>1</th>\n",
              "      <td>Chevrolet Chevelle Malibu</td>\n",
              "      <td>18.0</td>\n",
              "      <td>8</td>\n",
              "      <td>307.0</td>\n",
              "      <td>130.0</td>\n",
              "      <td>3504.0</td>\n",
              "      <td>12.0</td>\n",
              "      <td>70</td>\n",
              "      <td>US</td>\n",
              "      <td>Chevrolet</td>\n",
              "    </tr>\n",
              "    <tr>\n",
              "      <th>2</th>\n",
              "      <td>Buick Skylark 320</td>\n",
              "      <td>15.0</td>\n",
              "      <td>8</td>\n",
              "      <td>350.0</td>\n",
              "      <td>165.0</td>\n",
              "      <td>3693.0</td>\n",
              "      <td>11.5</td>\n",
              "      <td>70</td>\n",
              "      <td>US</td>\n",
              "      <td>Buick</td>\n",
              "    </tr>\n",
              "    <tr>\n",
              "      <th>3</th>\n",
              "      <td>Plymouth Satellite</td>\n",
              "      <td>18.0</td>\n",
              "      <td>8</td>\n",
              "      <td>318.0</td>\n",
              "      <td>150.0</td>\n",
              "      <td>3436.0</td>\n",
              "      <td>11.0</td>\n",
              "      <td>70</td>\n",
              "      <td>US</td>\n",
              "      <td>Plymouth</td>\n",
              "    </tr>\n",
              "    <tr>\n",
              "      <th>4</th>\n",
              "      <td>AMC Rebel SST</td>\n",
              "      <td>16.0</td>\n",
              "      <td>8</td>\n",
              "      <td>304.0</td>\n",
              "      <td>150.0</td>\n",
              "      <td>3433.0</td>\n",
              "      <td>12.0</td>\n",
              "      <td>70</td>\n",
              "      <td>US</td>\n",
              "      <td>AMC</td>\n",
              "    </tr>\n",
              "    <tr>\n",
              "      <th>5</th>\n",
              "      <td>Ford Torino</td>\n",
              "      <td>17.0</td>\n",
              "      <td>8</td>\n",
              "      <td>302.0</td>\n",
              "      <td>140.0</td>\n",
              "      <td>3449.0</td>\n",
              "      <td>10.5</td>\n",
              "      <td>70</td>\n",
              "      <td>US</td>\n",
              "      <td>Ford</td>\n",
              "    </tr>\n",
              "  </tbody>\n",
              "</table>\n",
              "</div>\n",
              "      <button class=\"colab-df-convert\" onclick=\"convertToInteractive('df-a24b7ea5-4c86-4969-8cd4-a14aabc51f6e')\"\n",
              "              title=\"Convert this dataframe to an interactive table.\"\n",
              "              style=\"display:none;\">\n",
              "        \n",
              "  <svg xmlns=\"http://www.w3.org/2000/svg\" height=\"24px\"viewBox=\"0 0 24 24\"\n",
              "       width=\"24px\">\n",
              "    <path d=\"M0 0h24v24H0V0z\" fill=\"none\"/>\n",
              "    <path d=\"M18.56 5.44l.94 2.06.94-2.06 2.06-.94-2.06-.94-.94-2.06-.94 2.06-2.06.94zm-11 1L8.5 8.5l.94-2.06 2.06-.94-2.06-.94L8.5 2.5l-.94 2.06-2.06.94zm10 10l.94 2.06.94-2.06 2.06-.94-2.06-.94-.94-2.06-.94 2.06-2.06.94z\"/><path d=\"M17.41 7.96l-1.37-1.37c-.4-.4-.92-.59-1.43-.59-.52 0-1.04.2-1.43.59L10.3 9.45l-7.72 7.72c-.78.78-.78 2.05 0 2.83L4 21.41c.39.39.9.59 1.41.59.51 0 1.02-.2 1.41-.59l7.78-7.78 2.81-2.81c.8-.78.8-2.07 0-2.86zM5.41 20L4 18.59l7.72-7.72 1.47 1.35L5.41 20z\"/>\n",
              "  </svg>\n",
              "      </button>\n",
              "      \n",
              "  <style>\n",
              "    .colab-df-container {\n",
              "      display:flex;\n",
              "      flex-wrap:wrap;\n",
              "      gap: 12px;\n",
              "    }\n",
              "\n",
              "    .colab-df-convert {\n",
              "      background-color: #E8F0FE;\n",
              "      border: none;\n",
              "      border-radius: 50%;\n",
              "      cursor: pointer;\n",
              "      display: none;\n",
              "      fill: #1967D2;\n",
              "      height: 32px;\n",
              "      padding: 0 0 0 0;\n",
              "      width: 32px;\n",
              "    }\n",
              "\n",
              "    .colab-df-convert:hover {\n",
              "      background-color: #E2EBFA;\n",
              "      box-shadow: 0px 1px 2px rgba(60, 64, 67, 0.3), 0px 1px 3px 1px rgba(60, 64, 67, 0.15);\n",
              "      fill: #174EA6;\n",
              "    }\n",
              "\n",
              "    [theme=dark] .colab-df-convert {\n",
              "      background-color: #3B4455;\n",
              "      fill: #D2E3FC;\n",
              "    }\n",
              "\n",
              "    [theme=dark] .colab-df-convert:hover {\n",
              "      background-color: #434B5C;\n",
              "      box-shadow: 0px 1px 3px 1px rgba(0, 0, 0, 0.15);\n",
              "      filter: drop-shadow(0px 1px 2px rgba(0, 0, 0, 0.3));\n",
              "      fill: #FFFFFF;\n",
              "    }\n",
              "  </style>\n",
              "\n",
              "      <script>\n",
              "        const buttonEl =\n",
              "          document.querySelector('#df-a24b7ea5-4c86-4969-8cd4-a14aabc51f6e button.colab-df-convert');\n",
              "        buttonEl.style.display =\n",
              "          google.colab.kernel.accessAllowed ? 'block' : 'none';\n",
              "\n",
              "        async function convertToInteractive(key) {\n",
              "          const element = document.querySelector('#df-a24b7ea5-4c86-4969-8cd4-a14aabc51f6e');\n",
              "          const dataTable =\n",
              "            await google.colab.kernel.invokeFunction('convertToInteractive',\n",
              "                                                     [key], {});\n",
              "          if (!dataTable) return;\n",
              "\n",
              "          const docLinkHtml = 'Like what you see? Visit the ' +\n",
              "            '<a target=\"_blank\" href=https://colab.research.google.com/notebooks/data_table.ipynb>data table notebook</a>'\n",
              "            + ' to learn more about interactive tables.';\n",
              "          element.innerHTML = '';\n",
              "          dataTable['output_type'] = 'display_data';\n",
              "          await google.colab.output.renderOutput(dataTable, element);\n",
              "          const docLink = document.createElement('div');\n",
              "          docLink.innerHTML = docLinkHtml;\n",
              "          element.appendChild(docLink);\n",
              "        }\n",
              "      </script>\n",
              "    </div>\n",
              "  </div>\n",
              "  "
            ]
          },
          "metadata": {},
          "execution_count": 14
        }
      ]
    },
    {
      "cell_type": "markdown",
      "source": [
        "#### Target (MPG)"
      ],
      "metadata": {
        "id": "Qlgdw1MLzdTB"
      }
    },
    {
      "cell_type": "code",
      "source": [
        "sns.set_style('darkgrid')\n",
        "plt.figure(figsize = (8, 6))\n",
        "sns.kdeplot(cars.MPG)\n",
        "plt.title(\"KDE plot of MPG\")\n",
        "plt.show()"
      ],
      "metadata": {
        "colab": {
          "base_uri": "https://localhost:8080/",
          "height": 404
        },
        "id": "O7UVw4Krw7rI",
        "outputId": "32baaba9-f521-4f94-9a12-bdd03e425a48"
      },
      "execution_count": 15,
      "outputs": [
        {
          "output_type": "display_data",
          "data": {
            "text/plain": [
              "<Figure size 576x432 with 1 Axes>"
            ],
            "image/png": "[encoded data removed]"
          },
          "metadata": {}
        }
      ]
    },
    {
      "cell_type": "code",
      "source": [
        "cars['MPG'] = np.log1p(cars.MPG)"
      ],
      "metadata": {
        "id": "JP5gQf73ykTm"
      },
      "execution_count": 16,
      "outputs": []
    },
    {
      "cell_type": "code",
      "source": [
        "sns.set_style('darkgrid')\n",
        "plt.figure(figsize = (8, 6))\n",
        "sns.kdeplot(cars.MPG)\n",
        "plt.title(\"KDE plot of MPG After log1p transformation\")\n",
        "plt.show()"
      ],
      "metadata": {
        "colab": {
          "base_uri": "https://localhost:8080/",
          "height": 404
        },
        "id": "9XYtAE_IzvcE",
        "outputId": "2fca7eef-96b3-47d5-b0c9-3b87a2ea9076"
      },
      "execution_count": 17,
      "outputs": [
        {
          "output_type": "display_data",
          "data": {
            "text/plain": [
              "<Figure size 576x432 with 1 Axes>"
            ],
            "image/png": "[encoded data removed]"
          },
          "metadata": {}
        }
      ]
    },
    {
      "cell_type": "markdown",
      "source": [
        "### One Hot Encoding the feature columns"
      ],
      "metadata": {
        "id": "a_-kK6er0EpO"
      }
    },
    {
      "cell_type": "code",
      "source": [
        "cars = pd.get_dummies(cars, columns=['Cylinders','Origin','Make'], drop_first=True)"
      ],
      "metadata": {
        "id": "W_v2gd1p0b4c"
      },
      "execution_count": 18,
      "outputs": []
    },
    {
      "cell_type": "markdown",
      "source": [
        "#### Train test split"
      ],
      "metadata": {
        "id": "XAkv9ePf25DG"
      }
    },
    {
      "cell_type": "code",
      "source": [
        "X = cars.drop(['MPG', 'Car'], axis = 1)\n",
        "y = cars['MPG']\n",
        "X_train, X_test, y_train, y_test = train_test_split(X , y,test_size  = 0.2, random_state = 116)\n",
        "\n",
        "print(f'X_train Shape: {X_train.shape}\\nX_test Shape: {X_test.shape}')\n",
        "print(f'y_train Shape: {y_train.shape}\\ny_test Shape: {y_test.shape}')"
      ],
      "metadata": {
        "colab": {
          "base_uri": "https://localhost:8080/"
        },
        "id": "J4dW6X_z1YQp",
        "outputId": "df39f500-b4c1-4483-ae16-036f9f8e7852"
      },
      "execution_count": 19,
      "outputs": [
        {
          "output_type": "stream",
          "name": "stdout",
          "text": [
            "X_train Shape: (313, 41)\n",
            "X_test Shape: (79, 41)\n",
            "y_train Shape: (313,)\n",
            "y_test Shape: (79,)\n"
          ]
        }
      ]
    },
    {
      "cell_type": "code",
      "source": [
        "ss_train = StandardScaler()\n",
        "ss_test = StandardScaler()"
      ],
      "metadata": {
        "id": "ZIRKgP-34c0w"
      },
      "execution_count": 20,
      "outputs": []
    },
    {
      "cell_type": "code",
      "source": [
        "X_train = ss_train.fit_transform(X_train)\n",
        "X_test = ss_test.fit_transform(X_test)"
      ],
      "metadata": {
        "id": "dd9Ammvc4dxy"
      },
      "execution_count": 21,
      "outputs": []
    },
    {
      "cell_type": "markdown",
      "source": [
        "### Predictive Models"
      ],
      "metadata": {
        "id": "G0FyApqN3VJm"
      }
    },
    {
      "cell_type": "markdown",
      "source": [
        "#### XGBRegressor"
      ],
      "metadata": {
        "id": "pO5ijVtX3ZdI"
      }
    },
    {
      "cell_type": "code",
      "source": [
        "# Using grid search to find the optimal hyper parameters\n",
        "param_dict = {'n_estimators':[100,300,500,800], 'max_depth':[2,4,6,8]}\n",
        "gs = GridSearchCV(XGBRegressor(), param_grid=param_dict, scoring='neg_mean_squared_error', cv=5, n_jobs=-1, verbose=6, refit=True)\n",
        "gs.fit(X_train, y_train)\n",
        "xgb = gs.best_estimator_\n",
        "print(f\"Best parameters are {gs.best_params_}\")\n",
        "print(f\"Best score is {gs.best_score_}\")"
      ],
      "metadata": {
        "colab": {
          "base_uri": "https://localhost:8080/"
        },
        "id": "Q-Pml1AA30CA",
        "outputId": "1440a6de-e65e-4de0-a834-b0345d589785"
      },
      "execution_count": 22,
      "outputs": [
        {
          "output_type": "stream",
          "name": "stdout",
          "text": [
            "Fitting 5 folds for each of 16 candidates, totalling 80 fits\n",
            "[03:32:19] WARNING: /workspace/src/objective/regression_obj.cu:152: reg:linear is now deprecated in favor of reg:squarederror.\n",
            "Best parameters are {'max_depth': 4, 'n_estimators': 100}\n",
            "Best score is -0.011596114380163728\n"
          ]
        }
      ]
    },
    {
      "cell_type": "code",
      "source": [
        "xgb_predict_train = xgb.predict(X_train)\n",
        "xgb_predict_test = xgb.predict(X_test)\n",
        "print(f\"RMSE for train is {np.sqrt(mean_squared_error(y_train, xgb_predict_train))}\")\n",
        "print(f\"RMSE for test is {np.sqrt(mean_squared_error(y_test, xgb_predict_test))}\")\n",
        "print(f\"R2 score for train is {r2_score(y_train, xgb_predict_train)}\")\n",
        "print(f\"R2 score for test is {r2_score(y_test, xgb_predict_test)}\")"
      ],
      "metadata": {
        "colab": {
          "base_uri": "https://localhost:8080/"
        },
        "id": "2l43Z3M75Mt9",
        "outputId": "7bcf0fa1-2fac-49bc-e081-bd692e39302d"
      },
      "execution_count": 23,
      "outputs": [
        {
          "output_type": "stream",
          "name": "stdout",
          "text": [
            "RMSE for train is 0.047263764672025727\n",
            "RMSE for test is 0.10003268892242662\n",
            "R2 score for train is 0.9790792342822849\n",
            "R2 score for test is 0.8971481122614369\n"
          ]
        }
      ]
    },
    {
      "cell_type": "markdown",
      "source": [
        "#### AdaBoostRegressor"
      ],
      "metadata": {
        "id": "mwVi7djO7NRL"
      }
    },
    {
      "cell_type": "code",
      "source": [
        "# Using grid search to find the optimal hyper parameters\n",
        "param_dict = {'n_estimators':[100,300,500,800], 'learning_rate':[1, 10, 100]}\n",
        "gs = GridSearchCV(AdaBoostRegressor(), param_grid=param_dict, scoring='neg_mean_squared_error', cv=5, n_jobs=-1, verbose=6, refit=True)\n",
        "gs.fit(X_train, y_train)\n",
        "adb = gs.best_estimator_\n",
        "print(f\"Best parameters are {gs.best_params_}\")\n",
        "print(f\"Best score is {gs.best_score_}\")"
      ],
      "metadata": {
        "colab": {
          "base_uri": "https://localhost:8080/"
        },
        "id": "SYrNbDh67GRF",
        "outputId": "c5f24235-3149-49a8-dffa-3b767f4f60c1"
      },
      "execution_count": 24,
      "outputs": [
        {
          "output_type": "stream",
          "name": "stdout",
          "text": [
            "Fitting 5 folds for each of 12 candidates, totalling 60 fits\n",
            "Best parameters are {'learning_rate': 1, 'n_estimators': 800}\n",
            "Best score is -0.012746878340731262\n"
          ]
        }
      ]
    },
    {
      "cell_type": "code",
      "source": [
        "adb_predict_train = adb.predict(X_train)\n",
        "adb_predict_test = adb.predict(X_test)\n",
        "print(f\"RMSE for train is {np.sqrt(mean_squared_error(y_train, adb_predict_train))}\")\n",
        "print(f\"RMSE for test is {np.sqrt(mean_squared_error(y_test, adb_predict_test))}\")\n",
        "print(f\"R2 score for train is {r2_score(y_train, adb_predict_train)}\")\n",
        "print(f\"R2 score for test is {r2_score(y_test, adb_predict_test)}\")"
      ],
      "metadata": {
        "colab": {
          "base_uri": "https://localhost:8080/"
        },
        "id": "_2Un1qvx7UL1",
        "outputId": "99d1a3d2-f9e7-4488-9456-608503c91918"
      },
      "execution_count": 25,
      "outputs": [
        {
          "output_type": "stream",
          "name": "stdout",
          "text": [
            "RMSE for train is 0.09246051752806912\n",
            "RMSE for test is 0.12735286133610346\n",
            "R2 score for train is 0.9199366803055382\n",
            "R2 score for test is 0.8332960865403695\n"
          ]
        }
      ]
    },
    {
      "cell_type": "markdown",
      "source": [
        "#### RandomForestRegressor"
      ],
      "metadata": {
        "id": "SbvMAeLy9TCU"
      }
    },
    {
      "cell_type": "code",
      "source": [
        "# Using grid search to find the optimal hyper parameters\n",
        "param_dict = {'n_estimators':[100,300,500,800], 'max_depth':[2,4,6,8]}\n",
        "gs = GridSearchCV(RandomForestRegressor(), param_grid=param_dict, scoring='neg_mean_squared_error', cv=5, n_jobs=-1, verbose=6, refit=True)\n",
        "gs.fit(X_train, y_train)\n",
        "rf = gs.best_estimator_\n",
        "print(f\"Best parameters are {gs.best_params_}\")\n",
        "print(f\"Best score is {gs.best_score_}\")"
      ],
      "metadata": {
        "colab": {
          "base_uri": "https://localhost:8080/"
        },
        "id": "4pHp5dTV8K3P",
        "outputId": "a84d4d73-c8c9-4e52-d225-f2808901089e"
      },
      "execution_count": 26,
      "outputs": [
        {
          "output_type": "stream",
          "name": "stdout",
          "text": [
            "Fitting 5 folds for each of 16 candidates, totalling 80 fits\n",
            "Best parameters are {'max_depth': 6, 'n_estimators': 300}\n",
            "Best score is -0.01182987003574544\n"
          ]
        }
      ]
    },
    {
      "cell_type": "code",
      "source": [
        "rf_predict_train = rf.predict(X_train)\n",
        "rf_predict_test = rf.predict(X_test)\n",
        "print(f\"RMSE for train is {np.sqrt(mean_squared_error(y_train, rf_predict_train))}\")\n",
        "print(f\"RMSE for test is {np.sqrt(mean_squared_error(y_test, rf_predict_test))}\")\n",
        "print(f\"R2 score for train is {r2_score(y_train, rf_predict_train)}\")\n",
        "print(f\"R2 score for test is {r2_score(y_test, rf_predict_test)}\")"
      ],
      "metadata": {
        "colab": {
          "base_uri": "https://localhost:8080/"
        },
        "id": "mrsFBETG9vUU",
        "outputId": "e7854574-7baa-4df4-aa8a-ddbdbc1780aa"
      },
      "execution_count": 27,
      "outputs": [
        {
          "output_type": "stream",
          "name": "stdout",
          "text": [
            "RMSE for train is 0.059525841177516366\n",
            "RMSE for test is 0.10537577446475352\n",
            "R2 score for train is 0.9668157477489\n",
            "R2 score for test is 0.8858673397282992\n"
          ]
        }
      ]
    },
    {
      "cell_type": "code",
      "source": [
        "print(\n",
        "\"\"\"\n",
        "XGBRegressor model has the best performance on the test set.\n",
        "\n",
        "Root Mean Square Error for test set: 0.10003268892242662 (lower is better)\n",
        "\n",
        "R2 score for the test set: 0.8971481122614369 (higher is better)\n",
        "\"\"\"\n",
        ")"
      ],
      "metadata": {
        "colab": {
          "base_uri": "https://localhost:8080/"
        },
        "id": "DR1-jCOBC24H",
        "outputId": "e12386a8-96e3-4101-c53d-9f8e4e846491"
      },
      "execution_count": 28,
      "outputs": [
        {
          "output_type": "stream",
          "name": "stdout",
          "text": [
            "\n",
            "XGBRegressor model has the best performance on the test set.\n",
            "\n",
            "Root Mean Square Error for test set: 0.10003268892242662 (lower is better)\n",
            "\n",
            "R2 score for the test set: 0.8971481122614369 (higher is better)\n",
            "\n"
          ]
        }
      ]
    },
    {
      "cell_type": "markdown",
      "source": [
        "XGBRegressor model has the best performance on the test set.\n",
        "\n",
        "Root Mean Square Error for test set: 0.10003268892242662 (lower is better)\n",
        "\n",
        "R2 score for the test set: 0.8971481122614369 (higher is better)"
      ],
      "metadata": {
        "id": "DHR9f328-G5-"
      }
    },
    {
      "cell_type": "code",
      "source": [
        "!pip freeze"
      ],
      "metadata": {
        "id": "I_pX_yCfDjWs",
        "outputId": "f6d3d703-4eb8-439b-8826-a88aadb1e02b",
        "colab": {
          "base_uri": "https://localhost:8080/"
        }
      },
      "execution_count": 29,
      "outputs": [
        {
          "output_type": "stream",
          "name": "stdout",
          "text": [
            "absl-py==1.3.0\n",
            "aeppl==0.0.33\n",
            "aesara==2.7.9\n",
            "aiohttp==3.8.3\n",
            "aiosignal==1.3.1\n",
            "alabaster==0.7.12\n",
            "albumentations==1.2.1\n",
            "altair==4.2.0\n",
            "appdirs==1.4.4\n",
            "arviz==0.12.1\n",
            "astor==0.8.1\n",
            "astropy==4.3.1\n",
            "astunparse==1.6.3\n",
            "async-timeout==4.0.2\n",
            "atari-py==0.2.9\n",
            "atomicwrites==1.4.1\n",
            "attrs==22.2.0\n",
            "audioread==3.0.0\n",
            "autograd==1.5\n",
            "Babel==2.11.0\n",
            "backcall==0.2.0\n",
            "beautifulsoup4==4.6.3\n",
            "bleach==5.0.1\n",
            "blis==0.7.9\n",
            "bokeh==2.3.3\n",
            "branca==0.6.0\n",
            "bs4==0.0.1\n",
            "CacheControl==0.12.11\n",
            "cachetools==5.2.1\n",
            "catalogue==2.0.8\n",
            "certifi==2022.12.7\n",
            "cffi==1.15.1\n",
            "cftime==1.6.2\n",
            "chardet==4.0.0\n",
            "charset-normalizer==2.1.1\n",
            "click==7.1.2\n",
            "clikit==0.6.2\n",
            "cloudpickle==2.2.0\n",
            "cmake==3.22.6\n",
            "cmdstanpy==1.0.8\n",
            "colorcet==3.0.1\n",
            "colorlover==0.3.0\n",
            "community==1.0.0b1\n",
            "confection==0.0.3\n",
            "cons==0.4.5\n",
            "contextlib2==0.5.5\n",
            "convertdate==2.4.0\n",
            "crashtest==0.3.1\n",
            "crcmod==1.7\n",
            "cufflinks==0.17.3\n",
            "cvxopt==1.3.0\n",
            "cvxpy==1.2.3\n",
            "cycler==0.11.0\n",
            "cymem==2.0.7\n",
            "Cython==0.29.33\n",
            "daft==0.0.4\n",
            "dask==2022.2.1\n",
            "datascience==0.17.5\n",
            "db-dtypes==1.0.5\n",
            "dbus-python==1.2.16\n",
            "debugpy==1.0.0\n",
            "decorator==4.4.2\n",
            "defusedxml==0.7.1\n",
            "descartes==1.1.0\n",
            "dill==0.3.6\n",
            "distributed==2022.2.1\n",
            "dlib==19.24.0\n",
            "dm-tree==0.1.8\n",
            "dnspython==2.2.1\n",
            "docutils==0.16\n",
            "dopamine-rl==1.0.5\n",
            "earthengine-api==0.1.335\n",
            "easydict==1.10\n",
            "ecos==2.0.12\n",
            "editdistance==0.5.3\n",
            "en-core-web-sm @ https://github.com/explosion/spacy-models/releases/download/en_core_web_sm-3.4.1/en_core_web_sm-3.4.1-py3-none-any.whl\n",
            "entrypoints==0.4\n",
            "ephem==4.1.4\n",
            "et-xmlfile==1.1.0\n",
            "etils==1.0.0\n",
            "etuples==0.3.8\n",
            "fa2==0.3.5\n",
            "fastai==2.7.10\n",
            "fastcore==1.5.27\n",
            "fastdownload==0.0.7\n",
            "fastdtw==0.3.4\n",
            "fastjsonschema==2.16.2\n",
            "fastprogress==1.0.3\n",
            "fastrlock==0.8.1\n",
            "feather-format==0.4.1\n",
            "filelock==3.9.0\n",
            "firebase-admin==5.3.0\n",
            "fix-yahoo-finance==0.0.22\n",
            "Flask==1.1.4\n",
            "flatbuffers==1.12\n",
            "folium==0.12.1.post1\n",
            "frozenlist==1.3.3\n",
            "fsspec==2022.11.0\n",
            "future==0.16.0\n",
            "gast==0.4.0\n",
            "GDAL==3.0.4\n",
            "gdown==4.4.0\n",
            "gensim==3.6.0\n",
            "geographiclib==1.52\n",
            "geopy==1.17.0\n",
            "gin-config==0.5.0\n",
            "glob2==0.7\n",
            "google==2.0.3\n",
            "google-api-core==2.11.0\n",
            "google-api-python-client==2.70.0\n",
            "google-auth==2.16.0\n",
            "google-auth-httplib2==0.1.0\n",
            "google-auth-oauthlib==0.4.6\n",
            "google-cloud-bigquery==3.4.1\n",
            "google-cloud-bigquery-storage==2.17.0\n",
            "google-cloud-core==2.3.2\n",
            "google-cloud-datastore==2.11.1\n",
            "google-cloud-firestore==2.7.3\n",
            "google-cloud-language==2.6.1\n",
            "google-cloud-storage==2.7.0\n",
            "google-cloud-translate==3.8.4\n",
            "google-colab @ file:///colabtools/dist/google-colab-1.0.0.tar.gz\n",
            "google-crc32c==1.5.0\n",
            "google-pasta==0.2.0\n",
            "google-resumable-media==2.4.0\n",
            "googleapis-common-protos==1.58.0\n",
            "googledrivedownloader==0.4\n",
            "graphviz==0.10.1\n",
            "greenlet==2.0.1\n",
            "grpcio==1.51.1\n",
            "grpcio-status==1.48.2\n",
            "gspread==3.4.2\n",
            "gspread-dataframe==3.0.8\n",
            "gym==0.25.2\n",
            "gym-notices==0.0.8\n",
            "h5py==3.1.0\n",
            "HeapDict==1.0.1\n",
            "hijri-converter==2.2.4\n",
            "holidays==0.18\n",
            "holoviews==1.14.9\n",
            "html5lib==1.0.1\n",
            "httpimport==0.5.18\n",
            "httplib2==0.17.4\n",
            "httpstan==4.6.1\n",
            "humanize==0.5.1\n",
            "hyperopt==0.1.2\n",
            "idna==2.10\n",
            "imageio==2.9.0\n",
            "imagesize==1.4.1\n",
            "imbalanced-learn==0.8.1\n",
            "imblearn==0.0\n",
            "imgaug==0.4.0\n",
            "importlib-metadata==6.0.0\n",
            "importlib-resources==5.10.2\n",
            "imutils==0.5.4\n",
            "inflect==2.1.0\n",
            "intel-openmp==2023.0.0\n",
            "intervaltree==2.1.0\n",
            "ipykernel==5.3.4\n",
            "ipython==7.9.0\n",
            "ipython-genutils==0.2.0\n",
            "ipython-sql==0.3.9\n",
            "ipywidgets==7.7.1\n",
            "itsdangerous==1.1.0\n",
            "jax==0.3.25\n",
            "jaxlib @ https://storage.googleapis.com/jax-releases/cuda11/jaxlib-0.3.25+cuda11.cudnn805-cp38-cp38-manylinux2014_x86_64.whl\n",
            "jieba==0.42.1\n",
            "Jinja2==2.11.3\n",
            "joblib==1.2.0\n",
            "jpeg4py==0.1.4\n",
            "jsonschema==4.3.3\n",
            "jupyter-client==6.1.12\n",
            "jupyter-console==6.1.0\n",
            "jupyter_core==5.1.3\n",
            "jupyterlab-widgets==3.0.5\n",
            "kaggle==1.5.12\n",
            "kapre==0.3.7\n",
            "keras==2.9.0\n",
            "Keras-Preprocessing==1.1.2\n",
            "keras-vis==0.4.1\n",
            "kiwisolver==1.4.4\n",
            "korean-lunar-calendar==0.3.1\n",
            "langcodes==3.3.0\n",
            "libclang==15.0.6.1\n",
            "librosa==0.8.1\n",
            "lightgbm==2.2.3\n",
            "llvmlite==0.39.1\n",
            "lmdb==0.99\n",
            "locket==1.0.0\n",
            "logical-unification==0.4.5\n",
            "LunarCalendar==0.0.9\n",
            "lxml==4.9.2\n",
            "Markdown==3.4.1\n",
            "MarkupSafe==2.0.1\n",
            "marshmallow==3.19.0\n",
            "matplotlib==3.2.2\n",
            "matplotlib-venn==0.11.7\n",
            "miniKanren==1.0.3\n",
            "missingno==0.5.1\n",
            "mistune==0.8.4\n",
            "mizani==0.7.3\n",
            "mkl==2019.0\n",
            "mlxtend==0.14.0\n",
            "more-itertools==9.0.0\n",
            "moviepy==0.2.3.5\n",
            "mpmath==1.2.1\n",
            "msgpack==1.0.4\n",
            "multidict==6.0.4\n",
            "multipledispatch==0.6.0\n",
            "multitasking==0.0.11\n",
            "murmurhash==1.0.9\n",
            "music21==5.5.0\n",
            "natsort==5.5.0\n",
            "nbconvert==5.6.1\n",
            "nbformat==5.7.1\n",
            "netCDF4==1.6.2\n",
            "networkx==3.0\n",
            "nibabel==3.0.2\n",
            "nltk==3.7\n",
            "notebook==5.7.16\n",
            "numba==0.56.4\n",
            "numexpr==2.8.4\n",
            "numpy==1.21.6\n",
            "oauth2client==4.1.3\n",
            "oauthlib==3.2.2\n",
            "okgrade==0.4.3\n",
            "opencv-contrib-python==4.6.0.66\n",
            "opencv-python==4.6.0.66\n",
            "opencv-python-headless==4.7.0.68\n",
            "openpyxl==3.0.10\n",
            "opt-einsum==3.3.0\n",
            "osqp==0.6.2.post0\n",
            "packaging==21.3\n",
            "palettable==3.3.0\n",
            "pandas==1.3.5\n",
            "pandas-datareader==0.9.0\n",
            "pandas-gbq==0.17.9\n",
            "pandas-profiling==1.4.1\n",
            "pandocfilters==1.5.0\n",
            "panel==0.12.1\n",
            "param==1.12.3\n",
            "parso==0.8.3\n",
            "partd==1.3.0\n",
            "pastel==0.2.1\n",
            "pathlib==1.0.1\n",
            "pathy==0.10.1\n",
            "patsy==0.5.3\n",
            "pep517==0.13.0\n",
            "pexpect==4.8.0\n",
            "pickleshare==0.7.5\n",
            "Pillow==7.1.2\n",
            "pip-tools==6.6.2\n",
            "platformdirs==2.6.2\n",
            "plotly==5.5.0\n",
            "plotnine==0.8.0\n",
            "pluggy==0.7.1\n",
            "pooch==1.6.0\n",
            "portpicker==1.3.9\n",
            "prefetch-generator==1.0.3\n",
            "preshed==3.0.8\n",
            "prettytable==3.6.0\n",
            "progressbar2==3.38.0\n",
            "prometheus-client==0.15.0\n",
            "promise==2.3\n",
            "prompt-toolkit==2.0.10\n",
            "prophet==1.1.1\n",
            "proto-plus==1.22.2\n",
            "protobuf==3.19.6\n",
            "psutil==5.4.8\n",
            "psycopg2==2.9.5\n",
            "ptyprocess==0.7.0\n",
            "py==1.11.0\n",
            "pyarrow==9.0.0\n",
            "pyasn1==0.4.8\n",
            "pyasn1-modules==0.2.8\n",
            "pycocotools==2.0.6\n",
            "pycparser==2.21\n",
            "pyct==0.4.8\n",
            "pydantic==1.10.4\n",
            "pydata-google-auth==1.5.0\n",
            "pydot==1.3.0\n",
            "pydot-ng==2.0.0\n",
            "pydotplus==2.0.2\n",
            "PyDrive==1.3.1\n",
            "pyemd==0.5.1\n",
            "pyerfa==2.0.0.1\n",
            "Pygments==2.6.1\n",
            "PyGObject==3.36.0\n",
            "pylev==1.4.0\n",
            "pymc==4.1.4\n",
            "PyMeeus==0.5.12\n",
            "pymongo==4.3.3\n",
            "pymystem3==0.2.0\n",
            "PyOpenGL==3.1.6\n",
            "pyparsing==3.0.9\n",
            "pyrsistent==0.19.3\n",
            "pysimdjson==3.2.0\n",
            "PySocks==1.7.1\n",
            "pystan==3.3.0\n",
            "pytest==3.6.4\n",
            "python-apt==2.0.0+ubuntu0.20.4.8\n",
            "python-dateutil==2.8.2\n",
            "python-louvain==0.16\n",
            "python-slugify==7.0.0\n",
            "python-utils==3.4.5\n",
            "pytz==2022.7\n",
            "pyviz-comms==2.2.1\n",
            "PyWavelets==1.4.1\n",
            "PyYAML==6.0\n",
            "pyzmq==23.2.1\n",
            "qdldl==0.1.5.post2\n",
            "qudida==0.0.4\n",
            "regex==2022.6.2\n",
            "requests==2.25.1\n",
            "requests-oauthlib==1.3.1\n",
            "requests-unixsocket==0.2.0\n",
            "resampy==0.4.2\n",
            "rpy2==3.5.5\n",
            "rsa==4.9\n",
            "scikit-image==0.18.3\n",
            "scikit-learn==1.0.2\n",
            "scipy==1.7.3\n",
            "screen-resolution-extra==0.0.0\n",
            "scs==3.2.2\n",
            "seaborn==0.11.2\n",
            "Send2Trash==1.8.0\n",
            "setuptools-git==1.2\n",
            "shapely==2.0.0\n",
            "six==1.15.0\n",
            "sklearn-pandas==1.8.0\n",
            "smart-open==6.3.0\n",
            "snowballstemmer==2.2.0\n",
            "sortedcontainers==2.4.0\n",
            "soundfile==0.11.0\n",
            "spacy==3.4.4\n",
            "spacy-legacy==3.0.11\n",
            "spacy-loggers==1.0.4\n",
            "Sphinx==3.5.4\n",
            "sphinxcontrib-devhelp==1.0.2\n",
            "sphinxcontrib-htmlhelp==2.0.0\n",
            "sphinxcontrib-jsmath==1.0.1\n",
            "sphinxcontrib-qthelp==1.0.3\n",
            "sphinxcontrib-serializinghtml==1.1.5\n",
            "sphinxcontrib.applehelp==1.0.3\n",
            "SQLAlchemy==1.4.46\n",
            "sqlparse==0.4.3\n",
            "srsly==2.4.5\n",
            "statsmodels==0.12.2\n",
            "sympy==1.7.1\n",
            "tables==3.7.0\n",
            "tabulate==0.8.10\n",
            "tblib==1.7.0\n",
            "tenacity==8.1.0\n",
            "tensorboard==2.9.1\n",
            "tensorboard-data-server==0.6.1\n",
            "tensorboard-plugin-wit==1.8.1\n",
            "tensorflow==2.9.2\n",
            "tensorflow-datasets==4.8.1\n",
            "tensorflow-estimator==2.9.0\n",
            "tensorflow-gcs-config==2.9.1\n",
            "tensorflow-hub==0.12.0\n",
            "tensorflow-io-gcs-filesystem==0.29.0\n",
            "tensorflow-metadata==1.12.0\n",
            "tensorflow-probability==0.17.0\n",
            "termcolor==2.2.0\n",
            "terminado==0.13.3\n",
            "testpath==0.6.0\n",
            "text-unidecode==1.3\n",
            "textblob==0.15.3\n",
            "thinc==8.1.6\n",
            "threadpoolctl==3.1.0\n",
            "tifffile==2022.10.10\n",
            "toml==0.10.2\n",
            "tomli==2.0.1\n",
            "toolz==0.12.0\n",
            "torch @ https://download.pytorch.org/whl/cu116/torch-1.13.1%2Bcu116-cp38-cp38-linux_x86_64.whl\n",
            "torchaudio @ https://download.pytorch.org/whl/cu116/torchaudio-0.13.1%2Bcu116-cp38-cp38-linux_x86_64.whl\n",
            "torchsummary==1.5.1\n",
            "torchtext==0.14.1\n",
            "torchvision @ https://download.pytorch.org/whl/cu116/torchvision-0.14.1%2Bcu116-cp38-cp38-linux_x86_64.whl\n",
            "tornado==6.0.4\n",
            "tqdm==4.64.1\n",
            "traitlets==5.7.1\n",
            "tweepy==3.10.0\n",
            "typeguard==2.7.1\n",
            "typer==0.7.0\n",
            "typing_extensions==4.4.0\n",
            "tzlocal==1.5.1\n",
            "uritemplate==4.1.1\n",
            "urllib3==1.24.3\n",
            "vega-datasets==0.9.0\n",
            "wasabi==0.10.1\n",
            "wcwidth==0.2.5\n",
            "webargs==8.2.0\n",
            "webencodings==0.5.1\n",
            "Werkzeug==1.0.1\n",
            "widgetsnbextension==3.6.1\n",
            "wordcloud==1.8.2.2\n",
            "wrapt==1.14.1\n",
            "xarray==2022.12.0\n",
            "xarray-einstats==0.4.0\n",
            "xgboost==0.90\n",
            "xkit==0.0.0\n",
            "xlrd==1.2.0\n",
            "xlwt==1.3.0\n",
            "yarl==1.8.2\n",
            "yellowbrick==1.5\n",
            "zict==2.2.0\n",
            "zipp==3.11.0\n"
          ]
        }
      ]
    },
    {
      "cell_type": "markdown",
      "source": [],
      "metadata": {
        "id": "COqummWmDi-d"
      }
    }
  ]
}